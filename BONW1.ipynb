{
 "cells": [
  {
   "cell_type": "markdown",
   "metadata": {},
   "source": [
    "### Description of the problem and a discussion of the background."
   ]
  },
  {
   "cell_type": "markdown",
   "metadata": {},
   "source": [
    "#### Introduction/Business Problem"
   ]
  },
  {
   "cell_type": "markdown",
   "metadata": {},
   "source": [
    "The company I am working for is looking to open a restaurant in the city of Toronto. So im going to leverage the foursqaure data for Toronto city and find a area where there is a large community of residents, easy access to transportation and less competitors"
   ]
  },
  {
   "cell_type": "markdown",
   "metadata": {},
   "source": [
    " #### Target an audience"
   ]
  },
  {
   "cell_type": "markdown",
   "metadata": {},
   "source": [
    "For any company (Small business or large franchises) looking to open a restaurant or cafe in Toronto city. "
   ]
  },
  {
   "cell_type": "markdown",
   "metadata": {},
   "source": [
    "### Description of the data"
   ]
  },
  {
   "cell_type": "markdown",
   "metadata": {},
   "source": [
    "1. Boroughs, Postal code, neighborhoods of Toronto \n",
    "2. Geo locations for each postal code\n",
    "3. Subway metro stations and their geolocation \n",
    "4. Apartments/houses in each neighborhood with their details and geolocation\n",
    "5. venues for each neighborhood and subway metro stations"
   ]
  },
  {
   "cell_type": "markdown",
   "metadata": {},
   "source": [
    "### How the data will be used to solve the problem"
   ]
  },
  {
   "cell_type": "markdown",
   "metadata": {},
   "source": [
    "1. Use geopy and Foursquare for venue and geolocation data to map/cluster all the top 10 venues, subway metro stations for  Toronto downtown to get a better understanding of all the venues/ammenities near each subway station for analysing accesibility\n",
    "\n",
    "2. Map/cluster the rental apartments for Toronto downtown to view the average number of apartments in a set radius around each subway station \n",
    "\n",
    "Potential questions to analysis:\n",
    "1. what is the number of apartments near each subway metro station in Toronto downtown?\n",
    "2. What are the venues of the two best places cross to metro station with apartments?\n",
    "3. How venues distributed in Toronto downtown around metro stations?"
   ]
  }
 ],
 "metadata": {
  "kernelspec": {
   "display_name": "Python 3",
   "language": "python",
   "name": "python3"
  },
  "language_info": {
   "codemirror_mode": {
    "name": "ipython",
    "version": 3
   },
   "file_extension": ".py",
   "mimetype": "text/x-python",
   "name": "python",
   "nbconvert_exporter": "python",
   "pygments_lexer": "ipython3",
   "version": "3.7.3"
  }
 },
 "nbformat": 4,
 "nbformat_minor": 2
}
